{
 "cells": [
  {
   "cell_type": "code",
   "execution_count": 1,
   "metadata": {},
   "outputs": [],
   "source": [
    "import numpy as np\n",
    "import pandas as pd\n",
    "from glob import glob\n",
    "from sklearn.model_selection import train_test_split\n",
    "from sklearn.ensemble import RandomForestClassifier\n",
    "from sklearn.metrics import accuracy_score\n",
    "# tsfresh\n",
    "from tsfresh import extract_features, extract_relevant_features, select_features\n",
    "from tsfresh.utilities.distribution import MultiprocessingDistributor"
   ]
  },
  {
   "cell_type": "code",
   "execution_count": 2,
   "metadata": {},
   "outputs": [
    {
     "data": {
      "text/plain": [
       "(9202, 283)"
      ]
     },
     "execution_count": 2,
     "metadata": {},
     "output_type": "execute_result"
    }
   ],
   "source": [
    "total = ['Total_PorosityQuantity', 'Total_PorosityQuality', 'Total_UnfilledZones', 'Total_FillingQuality', 'TOTAL_QUALITY']\n",
    "\n",
    "path = 'D:\\master\\LIP\\composite-analysis\\data'\n",
    "all_files = glob(path + '/*.csv')\n",
    "df_li = list()\n",
    "target = list()\n",
    "\n",
    "for id, filename in enumerate(all_files[:10]):\n",
    "    df = pd.read_csv(filename, index_col=None, header=0)\n",
    "    target.append(df.TOTAL_QUALITY.unique()[0])\n",
    "    df = df.drop(axis=1, columns=total)\n",
    "    df['id'] = id    \n",
    "    df_li.append(df)    \n",
    "\n",
    "df = pd.concat(df_li)\n",
    "target = np.asarray(target)\n",
    "df.shape"
   ]
  },
  {
   "cell_type": "markdown",
   "metadata": {},
   "source": [
    "### EXTRACT FEATURES"
   ]
  },
  {
   "cell_type": "code",
   "execution_count": 3,
   "metadata": {},
   "outputs": [],
   "source": [
    "# TSFRESH MULTIPROCESSING API DOC (single thread feature extraction too slow.....)\n",
    "# https://tsfresh.readthedocs.io/en/latest/text/parallelization.html#parallelization-of-feature-extraction\n",
    "# https://tsfresh.readthedocs.io/en/latest/text/tsfresh_on_a_cluster.html\n",
    "distributor = MultiprocessingDistributor(n_workers=8, disable_progressbar=False, progressbar_title=\"Feature Extraction\")"
   ]
  },
  {
   "cell_type": "code",
   "execution_count": null,
   "metadata": {},
   "outputs": [
    {
     "name": "stderr",
     "output_type": "stream",
     "text": [
      "\r",
      "Feature Extraction:   0%|                                                                                                                                                                   | 0/40 [00:00<?, ?it/s]"
     ]
    }
   ],
   "source": [
    "# TSFRESH FEATURE EXTRACTION API DOC\n",
    "# https://tsfresh.readthedocs.io/en/latest/text/quick_start.html\n",
    "extracted_features = extract_features(df, column_id='id', column_sort='Time', distributor=distributor)\n",
    "extracted_features"
   ]
  },
  {
   "cell_type": "code",
   "execution_count": null,
   "metadata": {},
   "outputs": [],
   "source": [
    "filtered_features = extract_relevant_features(df, pd.Series(target), column_id='id', column_sort='Time', \n",
    "                                              distributor=distributor)\n",
    "filtered_features"
   ]
  },
  {
   "cell_type": "code",
   "execution_count": null,
   "metadata": {},
   "outputs": [],
   "source": []
  },
  {
   "cell_type": "code",
   "execution_count": null,
   "metadata": {},
   "outputs": [],
   "source": [
    "X_train, X_test, X_filtered_train, X_filtered_test, y_train, y_test = train_test_split(extracted_features, filtered_features, target, test_size=.3)"
   ]
  },
  {
   "cell_type": "code",
   "execution_count": null,
   "metadata": {},
   "outputs": [],
   "source": [
    "type(data)"
   ]
  },
  {
   "cell_type": "code",
   "execution_count": null,
   "metadata": {},
   "outputs": [],
   "source": []
  }
 ],
 "metadata": {
  "file_extension": ".py",
  "kernelspec": {
   "display_name": "Python 3",
   "language": "python",
   "name": "python3"
  },
  "language_info": {
   "codemirror_mode": {
    "name": "ipython",
    "version": 3
   },
   "file_extension": ".py",
   "mimetype": "text/x-python",
   "name": "python",
   "nbconvert_exporter": "python",
   "pygments_lexer": "ipython3",
   "version": "3.7.4"
  },
  "mimetype": "text/x-python",
  "name": "python",
  "npconvert_exporter": "python",
  "pygments_lexer": "ipython3",
  "version": 3
 },
 "nbformat": 4,
 "nbformat_minor": 2
}
