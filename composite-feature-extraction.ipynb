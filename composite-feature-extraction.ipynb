{
 "cells": [
  {
   "cell_type": "code",
   "execution_count": null,
   "metadata": {},
   "outputs": [],
   "source": [
    "\n",
    "\n",
    "def to_frequency_domain(data):\n",
    "    for col in data:\n",
    "        data[col].dropna(inplace=True)\n",
    "        freq_data = abs(fft(data[col], len))\n",
    "        half_size = freq_data.shape[0] / 2\n",
    "        freq_data = freq_data[:int(half_size)]\n",
    "        series = pd.Series(freq_data, name=col)\n",
    "        freq = pd.concat([freq, series], axis=1)\n",
    "\n",
    "    seconds_period = to_offset(data.index.inferred_freq).nanos / 10 ** 9\n",
    "\n",
    "    max_index_freq = 1 / seconds_period\n",
    "    freq_index = list(map(str, np.linspace(0, max_index_freq, freq.shape[0])))\n",
    "    freq.index = freq_index\n",
    "    \n",
    "    return freq\n",
    "    \n",
    "    "
   ]
  },
  {
   "cell_type": "code",
   "execution_count": null,
   "metadata": {},
   "outputs": [],
   "source": [
    "import numpy as np\n",
    "from glob import glob\n",
    "import pandas as pd\n",
    "import csv\n",
    "from tsfresh import extract_features\n",
    "from tsfresh.utilities.distribution import MultiprocessingDistributor\n",
    "\n",
    "files = glob('data/*.csv')\n",
    "totals = ['Total_PorosityQuantity', 'Total_PorosityQuality', 'Total_UnfilledZones', 'Total_FillingQuality', 'TOTAL_QUALITY']\n",
    "\n",
    "df_list = list()\n",
    "target = list()\n",
    "\n",
    "for i, file in enumerate(files):\n",
    "    df = pd.read_csv(file)\n",
    "\n",
    "    if df.iloc[:,-1].unique()[0] == target_value:\n",
    "        df['id'] = i\n",
    "        target.append(df.TOTAL_QUALITY.unique()[0])\n",
    "        df = df.drop(axis=1, columns=totals)   \n",
    "\n",
    "        consta = [col for col in df if col.endswith(('K1', 'K2', 'K3'))]\n",
    "        series = [col for col in df if col.endswith(('Time', 'id', 'Flow rate', 'Pressure'))]  \n",
    "\n",
    "        distributor = MultiprocessingDistributor(n_workers=8, disable_progressbar=True, progressbar_title=\"Feature Extraction\")\n",
    "        extracted_features = extract_features(df[series], column_id='id', column_sort='Time', distributor=distributor)\n",
    "\n",
    "        for j in consta:\n",
    "            extracted_features[j] = df[j].unique()[0] \n",
    "\n",
    "        df_list.append(extracted_features)   \n",
    "\n",
    "\n",
    "\n",
    "df = pd.concat(df_list)\n",
    "df.head()        "
   ]
  }
 ],
 "metadata": {
  "file_extension": ".py",
  "kernelspec": {
   "display_name": "Python 3",
   "language": "python",
   "name": "python3"
  },
  "language_info": {
   "codemirror_mode": {
    "name": "ipython",
    "version": 3
   },
   "file_extension": ".py",
   "mimetype": "text/x-python",
   "name": "python",
   "nbconvert_exporter": "python",
   "pygments_lexer": "ipython3",
   "version": "3.7.4"
  },
  "mimetype": "text/x-python",
  "name": "python",
  "npconvert_exporter": "python",
  "pygments_lexer": "ipython3",
  "version": 3
 },
 "nbformat": 4,
 "nbformat_minor": 2
}
